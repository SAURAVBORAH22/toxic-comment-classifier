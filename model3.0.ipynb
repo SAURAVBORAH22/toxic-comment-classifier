{
 "cells": [
  {
   "cell_type": "code",
   "execution_count": 9,
   "metadata": {},
   "outputs": [],
   "source": [
    "import pandas as pd\n",
    "from sklearn.feature_extraction.text import TfidfVectorizer\n",
    "from sklearn.linear_model import LogisticRegression\n",
    "from sklearn.metrics import accuracy_score"
   ]
  },
  {
   "cell_type": "code",
   "execution_count": 2,
   "metadata": {},
   "outputs": [],
   "source": [
    "train = pd.read_csv('train_final.csv')\n",
    "test=pd.read_csv('test.csv')"
   ]
  },
  {
   "cell_type": "code",
   "execution_count": 3,
   "metadata": {},
   "outputs": [],
   "source": [
    "v = TfidfVectorizer()"
   ]
  },
  {
   "cell_type": "code",
   "execution_count": 4,
   "metadata": {},
   "outputs": [],
   "source": [
    "X_train = v.fit_transform(train['comment_text'])\n",
    "X_test = v.transform(test['comment_text'])"
   ]
  },
  {
   "cell_type": "code",
   "execution_count": 5,
   "metadata": {},
   "outputs": [],
   "source": [
    "for label in ['toxic', 'severe_toxic', 'obscene', 'threat', 'insult', 'identity_hate']:\n",
    "    y = train[label]\n",
    "    model = LogisticRegression()\n",
    "    model.fit(X_train, y)\n",
    "    test[label] = model.predict_proba(X_test)[:, 1]"
   ]
  },
  {
   "cell_type": "code",
   "execution_count": 6,
   "metadata": {},
   "outputs": [],
   "source": [
    "test.drop('comment_text', axis=1, inplace=True)"
   ]
  },
  {
   "cell_type": "code",
   "execution_count": 7,
   "metadata": {},
   "outputs": [],
   "source": [
    "test.to_csv('solution.csv', index=False)"
   ]
  },
  {
   "cell_type": "code",
   "execution_count": 8,
   "metadata": {},
   "outputs": [
    {
     "data": {
      "text/html": [
       "<div>\n",
       "<style scoped>\n",
       "    .dataframe tbody tr th:only-of-type {\n",
       "        vertical-align: middle;\n",
       "    }\n",
       "\n",
       "    .dataframe tbody tr th {\n",
       "        vertical-align: top;\n",
       "    }\n",
       "\n",
       "    .dataframe thead th {\n",
       "        text-align: right;\n",
       "    }\n",
       "</style>\n",
       "<table border=\"1\" class=\"dataframe\">\n",
       "  <thead>\n",
       "    <tr style=\"text-align: right;\">\n",
       "      <th></th>\n",
       "      <th>id</th>\n",
       "      <th>toxic</th>\n",
       "      <th>severe_toxic</th>\n",
       "      <th>obscene</th>\n",
       "      <th>threat</th>\n",
       "      <th>insult</th>\n",
       "      <th>identity_hate</th>\n",
       "    </tr>\n",
       "  </thead>\n",
       "  <tbody>\n",
       "    <tr>\n",
       "      <th>0</th>\n",
       "      <td>00001cee341fdb12</td>\n",
       "      <td>0.984922</td>\n",
       "      <td>0.091113</td>\n",
       "      <td>0.951077</td>\n",
       "      <td>0.036165</td>\n",
       "      <td>0.883869</td>\n",
       "      <td>0.145422</td>\n",
       "    </tr>\n",
       "    <tr>\n",
       "      <th>1</th>\n",
       "      <td>0000247867823ef7</td>\n",
       "      <td>0.018397</td>\n",
       "      <td>0.002347</td>\n",
       "      <td>0.010259</td>\n",
       "      <td>0.000961</td>\n",
       "      <td>0.008517</td>\n",
       "      <td>0.003197</td>\n",
       "    </tr>\n",
       "    <tr>\n",
       "      <th>2</th>\n",
       "      <td>00013b17ad220c46</td>\n",
       "      <td>0.014834</td>\n",
       "      <td>0.004682</td>\n",
       "      <td>0.013101</td>\n",
       "      <td>0.002175</td>\n",
       "      <td>0.019799</td>\n",
       "      <td>0.003836</td>\n",
       "    </tr>\n",
       "    <tr>\n",
       "      <th>3</th>\n",
       "      <td>00017563c3f7919a</td>\n",
       "      <td>0.007523</td>\n",
       "      <td>0.002279</td>\n",
       "      <td>0.007280</td>\n",
       "      <td>0.002067</td>\n",
       "      <td>0.007881</td>\n",
       "      <td>0.002054</td>\n",
       "    </tr>\n",
       "    <tr>\n",
       "      <th>4</th>\n",
       "      <td>00017695ad8997eb</td>\n",
       "      <td>0.037310</td>\n",
       "      <td>0.004148</td>\n",
       "      <td>0.019341</td>\n",
       "      <td>0.001914</td>\n",
       "      <td>0.017283</td>\n",
       "      <td>0.005796</td>\n",
       "    </tr>\n",
       "    <tr>\n",
       "      <th>5</th>\n",
       "      <td>0001ea8717f6de06</td>\n",
       "      <td>0.026416</td>\n",
       "      <td>0.004594</td>\n",
       "      <td>0.011260</td>\n",
       "      <td>0.003980</td>\n",
       "      <td>0.016593</td>\n",
       "      <td>0.004324</td>\n",
       "    </tr>\n",
       "    <tr>\n",
       "      <th>6</th>\n",
       "      <td>00024115d4cbde0f</td>\n",
       "      <td>0.011181</td>\n",
       "      <td>0.002064</td>\n",
       "      <td>0.008727</td>\n",
       "      <td>0.001510</td>\n",
       "      <td>0.012496</td>\n",
       "      <td>0.003242</td>\n",
       "    </tr>\n",
       "    <tr>\n",
       "      <th>7</th>\n",
       "      <td>000247e83dcc1211</td>\n",
       "      <td>0.340764</td>\n",
       "      <td>0.005415</td>\n",
       "      <td>0.047581</td>\n",
       "      <td>0.002322</td>\n",
       "      <td>0.084608</td>\n",
       "      <td>0.007324</td>\n",
       "    </tr>\n",
       "    <tr>\n",
       "      <th>8</th>\n",
       "      <td>00025358d4737918</td>\n",
       "      <td>0.020692</td>\n",
       "      <td>0.001688</td>\n",
       "      <td>0.012621</td>\n",
       "      <td>0.001736</td>\n",
       "      <td>0.010622</td>\n",
       "      <td>0.003152</td>\n",
       "    </tr>\n",
       "    <tr>\n",
       "      <th>9</th>\n",
       "      <td>00026d1092fe71cc</td>\n",
       "      <td>0.009017</td>\n",
       "      <td>0.001736</td>\n",
       "      <td>0.005302</td>\n",
       "      <td>0.001585</td>\n",
       "      <td>0.006824</td>\n",
       "      <td>0.002301</td>\n",
       "    </tr>\n",
       "  </tbody>\n",
       "</table>\n",
       "</div>"
      ],
      "text/plain": [
       "                 id     toxic  severe_toxic   obscene    threat    insult  \\\n",
       "0  00001cee341fdb12  0.984922      0.091113  0.951077  0.036165  0.883869   \n",
       "1  0000247867823ef7  0.018397      0.002347  0.010259  0.000961  0.008517   \n",
       "2  00013b17ad220c46  0.014834      0.004682  0.013101  0.002175  0.019799   \n",
       "3  00017563c3f7919a  0.007523      0.002279  0.007280  0.002067  0.007881   \n",
       "4  00017695ad8997eb  0.037310      0.004148  0.019341  0.001914  0.017283   \n",
       "5  0001ea8717f6de06  0.026416      0.004594  0.011260  0.003980  0.016593   \n",
       "6  00024115d4cbde0f  0.011181      0.002064  0.008727  0.001510  0.012496   \n",
       "7  000247e83dcc1211  0.340764      0.005415  0.047581  0.002322  0.084608   \n",
       "8  00025358d4737918  0.020692      0.001688  0.012621  0.001736  0.010622   \n",
       "9  00026d1092fe71cc  0.009017      0.001736  0.005302  0.001585  0.006824   \n",
       "\n",
       "   identity_hate  \n",
       "0       0.145422  \n",
       "1       0.003197  \n",
       "2       0.003836  \n",
       "3       0.002054  \n",
       "4       0.005796  \n",
       "5       0.004324  \n",
       "6       0.003242  \n",
       "7       0.007324  \n",
       "8       0.003152  \n",
       "9       0.002301  "
      ]
     },
     "execution_count": 8,
     "metadata": {},
     "output_type": "execute_result"
    }
   ],
   "source": [
    "test.head(10)"
   ]
  },
  {
   "cell_type": "code",
   "execution_count": null,
   "metadata": {},
   "outputs": [],
   "source": []
  }
 ],
 "metadata": {
  "kernelspec": {
   "display_name": "Python 3",
   "language": "python",
   "name": "python3"
  },
  "language_info": {
   "codemirror_mode": {
    "name": "ipython",
    "version": 3
   },
   "file_extension": ".py",
   "mimetype": "text/x-python",
   "name": "python",
   "nbconvert_exporter": "python",
   "pygments_lexer": "ipython3",
   "version": "3.7.1"
  }
 },
 "nbformat": 4,
 "nbformat_minor": 4
}
